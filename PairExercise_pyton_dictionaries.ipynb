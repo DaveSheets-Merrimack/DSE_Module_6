{
 "cells": [
  {
   "cell_type": "markdown",
   "id": "cb77b777-a182-46a0-8c1f-b01d27ef1411",
   "metadata": {},
   "source": [
    "Pair exercise, introducion to dictionaries\n",
    "\n",
    "HD Sheets,  July 2024\n",
    "\n",
    "For DSE5002\n",
    "\n",
    "Dictionaries are Python data storage structures that use a key-value pair storage system\n",
    "\n",
    "you look up values by providing the key\n",
    "\n",
    "This approach is common in NOSQL database systems.\n",
    "\n",
    "The lookup is fast, since dictionaries hash the key to find the value,  they don't have to sort through\n",
    "the dictionary to find the value.\n",
    "\n",
    "The key can be an integer or a string\n",
    "\n",
    "If you need to do a lot of look-up or searching based on a string, use a dictionary, not a list, to run faster.\n",
    "\n",
    "Dictionaries are declared using curly brackets\n"
   ]
  },
  {
   "cell_type": "code",
   "execution_count": 32,
   "id": "a73578ae-4045-4cbc-8b61-c9fe3459fe67",
   "metadata": {},
   "outputs": [],
   "source": [
    "# creating a dictionary\n",
    "\n",
    "dictionary_emp1={\"first\":\"Bob\",\"middle\":\"J.\",\"last\":\"Smith\"}"
   ]
  },
  {
   "cell_type": "code",
   "execution_count": 34,
   "id": "9e41f672-0597-4986-9bc0-da94147d5e29",
   "metadata": {},
   "outputs": [
    {
     "data": {
      "text/plain": [
       "'Smith'"
      ]
     },
     "execution_count": 34,
     "metadata": {},
     "output_type": "execute_result"
    }
   ],
   "source": [
    "#retrieve values using the key\n",
    "\n",
    "dictionary_emp1[\"last\"]"
   ]
  },
  {
   "cell_type": "code",
   "execution_count": 36,
   "id": "6b3fb4bd-9e2f-4f90-bff0-363e1468ac0d",
   "metadata": {},
   "outputs": [
    {
     "data": {
      "text/plain": [
       "['__class__',\n",
       " '__class_getitem__',\n",
       " '__contains__',\n",
       " '__delattr__',\n",
       " '__delitem__',\n",
       " '__dir__',\n",
       " '__doc__',\n",
       " '__eq__',\n",
       " '__format__',\n",
       " '__ge__',\n",
       " '__getattribute__',\n",
       " '__getitem__',\n",
       " '__getstate__',\n",
       " '__gt__',\n",
       " '__hash__',\n",
       " '__init__',\n",
       " '__init_subclass__',\n",
       " '__ior__',\n",
       " '__iter__',\n",
       " '__le__',\n",
       " '__len__',\n",
       " '__lt__',\n",
       " '__ne__',\n",
       " '__new__',\n",
       " '__or__',\n",
       " '__reduce__',\n",
       " '__reduce_ex__',\n",
       " '__repr__',\n",
       " '__reversed__',\n",
       " '__ror__',\n",
       " '__setattr__',\n",
       " '__setitem__',\n",
       " '__sizeof__',\n",
       " '__str__',\n",
       " '__subclasshook__',\n",
       " 'clear',\n",
       " 'copy',\n",
       " 'fromkeys',\n",
       " 'get',\n",
       " 'items',\n",
       " 'keys',\n",
       " 'pop',\n",
       " 'popitem',\n",
       " 'setdefault',\n",
       " 'update',\n",
       " 'values']"
      ]
     },
     "execution_count": 36,
     "metadata": {},
     "output_type": "execute_result"
    }
   ],
   "source": [
    "dir(dictionary_emp1)"
   ]
  },
  {
   "cell_type": "code",
   "execution_count": 38,
   "id": "9a69a641-dd8b-4e1b-a286-7b6becba6885",
   "metadata": {},
   "outputs": [
    {
     "data": {
      "text/plain": [
       "dict_keys(['first', 'middle', 'last'])"
      ]
     },
     "execution_count": 38,
     "metadata": {},
     "output_type": "execute_result"
    }
   ],
   "source": [
    "# list of all keys\n",
    "\n",
    "dictionary_emp1.keys()"
   ]
  },
  {
   "cell_type": "code",
   "execution_count": 40,
   "id": "73ab29e7-45d5-4cd5-92d1-2ba4b812ab7d",
   "metadata": {},
   "outputs": [
    {
     "data": {
      "text/plain": [
       "dict_items([('first', 'Bob'), ('middle', 'J.'), ('last', 'Smith')])"
      ]
     },
     "execution_count": 40,
     "metadata": {},
     "output_type": "execute_result"
    }
   ],
   "source": [
    "#\n",
    "dictionary_emp1.items()"
   ]
  },
  {
   "cell_type": "code",
   "execution_count": 42,
   "id": "98d243db-0cef-4497-b36e-f2a42709eb38",
   "metadata": {},
   "outputs": [
    {
     "data": {
      "text/plain": [
       "{'first': 'Bob',\n",
       " 'middle': 'J.',\n",
       " 'last': 'Smith',\n",
       " 'street': '156 Broadway',\n",
       " 'town': 'Milwaukee',\n",
       " 'state': 'Wisconson',\n",
       " 'zip': '34098'}"
      ]
     },
     "execution_count": 42,
     "metadata": {},
     "output_type": "execute_result"
    }
   ],
   "source": [
    "#adding one dictionary to another\n",
    "\n",
    "address1={\"street\":\"156 Broadway\",\"town\":\"Milwaukee\",\"state\":\"Wisconson\",\"zip\":\"34098\"}\n",
    "\n",
    "#add the address1 dictionary to dictionary_emp1\n",
    "\n",
    "dictionary_emp1.update(address1)\n",
    "\n",
    "dictionary_emp1"
   ]
  },
  {
   "cell_type": "code",
   "execution_count": 44,
   "id": "561a74c0-620f-4473-b8c4-50fdce2da9cc",
   "metadata": {},
   "outputs": [
    {
     "name": "stdout",
     "output_type": "stream",
     "text": [
      "34098\n",
      "{'first': 'Bob', 'middle': 'J.', 'last': 'Smith', 'street': '156 Broadway', 'town': 'Milwaukee', 'state': 'Wisconson'}\n"
     ]
    }
   ],
   "source": [
    "a=dictionary_emp1.pop('zip')\n",
    "print(a)\n",
    "print(dictionary_emp1)"
   ]
  },
  {
   "cell_type": "markdown",
   "id": "a75676ff-8fd2-4f51-9395-65b7897ba6f3",
   "metadata": {},
   "source": [
    "Mutability\n",
    "\n",
    "We can change a dictionary once created"
   ]
  },
  {
   "cell_type": "code",
   "execution_count": 50,
   "id": "3d86a670-3642-413d-8c84-dd2430f19a13",
   "metadata": {},
   "outputs": [
    {
     "data": {
      "text/plain": [
       "{'first': 'Robert',\n",
       " 'middle': 'J.',\n",
       " 'last': 'Smith',\n",
       " 'street': '156 Broadway',\n",
       " 'town': 'Milwaukee',\n",
       " 'state': 'Wisconson',\n",
       " 'name': 'Robert'}"
      ]
     },
     "execution_count": 50,
     "metadata": {},
     "output_type": "execute_result"
    }
   ],
   "source": [
    "dictionary_emp1['first']=\"Robert\"\n",
    "dictionary_emp1"
   ]
  },
  {
   "cell_type": "markdown",
   "id": "a0b88f75-0d5c-4f2a-aaf0-a708015e774f",
   "metadata": {},
   "source": [
    "Dictionaries are iterable but they are not ordered\n",
    "\n",
    "The ordering can be random"
   ]
  },
  {
   "cell_type": "code",
   "execution_count": 54,
   "id": "7e0c76fe-3748-4e27-92ee-719e2bcb0357",
   "metadata": {},
   "outputs": [
    {
     "name": "stdout",
     "output_type": "stream",
     "text": [
      "first\n",
      "middle\n",
      "last\n",
      "street\n",
      "town\n",
      "state\n",
      "name\n"
     ]
    }
   ],
   "source": [
    "#interating on key\n",
    "\n",
    "\n",
    "for key in dictionary_emp1:\n",
    "    print(key)"
   ]
  },
  {
   "cell_type": "code",
   "execution_count": 56,
   "id": "ebb95440-fce3-459d-937f-4feefbf2d721",
   "metadata": {},
   "outputs": [
    {
     "name": "stdout",
     "output_type": "stream",
     "text": [
      "first\n",
      "middle\n",
      "last\n",
      "street\n",
      "town\n",
      "state\n",
      "name\n"
     ]
    }
   ],
   "source": [
    "#iteratign on key and value\n",
    "\n",
    "for value in dictionary_emp1:\n",
    "    print(value)"
   ]
  },
  {
   "cell_type": "code",
   "execution_count": 58,
   "id": "c2c366fe-591f-45a5-b7e1-b31ba75665cf",
   "metadata": {},
   "outputs": [
    {
     "name": "stdout",
     "output_type": "stream",
     "text": [
      "first : Robert\n",
      "middle : J.\n",
      "last : Smith\n",
      "street : 156 Broadway\n",
      "town : Milwaukee\n",
      "state : Wisconson\n",
      "name : Robert\n"
     ]
    }
   ],
   "source": [
    "#iterating on both at once\n",
    "\n",
    "for key,value in dictionary_emp1.items():\n",
    "    print(key+\" : \"+value)"
   ]
  },
  {
   "cell_type": "code",
   "execution_count": 62,
   "id": "a4b8f7b7-7cd2-4f04-b981-77ed29ad06ec",
   "metadata": {},
   "outputs": [
    {
     "data": {
      "text/plain": [
       "['first-Robert',\n",
       " 'middle-J.',\n",
       " 'last-Smith',\n",
       " 'street-156 Broadway',\n",
       " 'town-Milwaukee',\n",
       " 'state-Wisconson',\n",
       " 'name-Robert']"
      ]
     },
     "execution_count": 62,
     "metadata": {},
     "output_type": "execute_result"
    }
   ],
   "source": [
    "# a comprehension using both key and value\n",
    "\n",
    "a=[key+\"-\"+value for key,value in dictionary_emp1.items()]\n",
    "a"
   ]
  },
  {
   "cell_type": "code",
   "execution_count": null,
   "id": "188afa3a-d752-439d-93b0-9f6a4a405194",
   "metadata": {},
   "outputs": [],
   "source": []
  }
 ],
 "metadata": {
  "kernelspec": {
   "display_name": "Python 3 (ipykernel)",
   "language": "python",
   "name": "python3"
  },
  "language_info": {
   "codemirror_mode": {
    "name": "ipython",
    "version": 3
   },
   "file_extension": ".py",
   "mimetype": "text/x-python",
   "name": "python",
   "nbconvert_exporter": "python",
   "pygments_lexer": "ipython3",
   "version": "3.12.4"
  }
 },
 "nbformat": 4,
 "nbformat_minor": 5
}
